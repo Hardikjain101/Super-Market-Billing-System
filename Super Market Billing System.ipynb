{
 "cells": [
  {
   "cell_type": "code",
   "execution_count": null,
   "id": "70adb4e2-651c-4e63-9bba-8c3e59018dbd",
   "metadata": {},
   "outputs": [
    {
     "name": "stdin",
     "output_type": "stream",
     "text": [
      "Enter your name here:  hardikkkk\n",
      "Enter your phone number here:  4545455\n"
     ]
    },
    {
     "name": "stdout",
     "output_type": "stream",
     "text": [
      "\n",
      "Enter quantity and product name:\n"
     ]
    },
    {
     "name": "stdin",
     "output_type": "stream",
     "text": [
      "Enter quantity:  54\n",
      "Enter product name:  apple\n"
     ]
    },
    {
     "name": "stdout",
     "output_type": "stream",
     "text": [
      "Product not found. Please enter a valid product.\n"
     ]
    },
    {
     "name": "stdin",
     "output_type": "stream",
     "text": [
      "Enter product name:  apples\n"
     ]
    },
    {
     "name": "stdout",
     "output_type": "stream",
     "text": [
      "Product not found. Please enter a valid product.\n"
     ]
    },
    {
     "name": "stdin",
     "output_type": "stream",
     "text": [
      "Enter product name:  chips\n",
      "Do you want to add more items? (yes/no):  ni=\n",
      "Enter quantity:  54\n",
      "Enter product name:  \n"
     ]
    },
    {
     "name": "stdout",
     "output_type": "stream",
     "text": [
      "Product not found. Please enter a valid product.\n"
     ]
    }
   ],
   "source": [
    "# Dictionary of products with their prices\n",
    "# Keys represent the product names, values represent their prices\n",
    "products = {\n",
    "    \"chips\": 20, \"harpic\": 40, \"soap\": 25, \"toothpaste\": 60, \"shampoo\": 120,\n",
    "    \"biscuit\": 10, \"milk\": 50, \"bread\": 30, \"rice\": 80, \"sugar\": 45,\n",
    "    \"salt\": 15, \"oil\": 110, \"dal\": 90, \"detergent\": 150, \"tea\": 200,\n",
    "    \"coffee\": 250, \"butter\": 40, \"cheese\": 70, \"paneer\": 90, \"egg\": 5,\n",
    "    \"flour\": 35, \"pasta\": 55, \"noodles\": 20, \"ice cream\": 60, \"chocolate\": 45,\n",
    "    \"juice\": 70, \"water bottle\": 20, \"cold drink\": 35, \"ketchup\": 50, \"mayonnaise\": 75,\n",
    "    \"bisleri\": 20, \"face wash\": 120, \"handwash\": 70, \"sanitizer\": 50, \"tissues\": 30,\n",
    "    \"cornflakes\": 90, \"oats\": 110, \"honey\": 150, \"jam\": 85, \"ghee\": 500,\n",
    "    \"paneer\": 90, \"maggie\": 12, \"soy sauce\": 55, \"vinegar\": 45, \"pizza base\": 40,\n",
    "    \"yeast\": 35, \"coconut oil\": 85, \"raisins\": 120, \"almonds\": 500, \"walnuts\": 650\n",
    "}\n",
    "\n",
    "# Initialize total amount and cart\n",
    "amount = 0  # To keep track of total bill\n",
    "cart = {}  # Dictionary to store purchased items and their quantities\n",
    "\n",
    "# Input customer details\n",
    "name = input(\"Enter your name here: \").title()  # Capitalize name\n",
    "phone_no = input(\"Enter your phone number here: \")  # No validation for simplicity\n",
    "\n",
    "# Prompt for product selection\n",
    "print(\"\\nEnter quantity and product name:\")\n",
    "\n",
    "while True:\n",
    "    # Ask for quantity and convert to float for cases like weights (e.g., 0.5 kg)\n",
    "    quantity = float(input(\"Enter quantity: \"))\n",
    "\n",
    "    # Loop until a valid product name is entered\n",
    "    while True:\n",
    "        p_name = input(\"Enter product name: \").lower()  # Product name in lowercase for uniformity\n",
    "        if p_name not in products:\n",
    "            print(\"Product not found. Please enter a valid product.\")\n",
    "        else:\n",
    "            break  # Break loop if valid product is found\n",
    "    \n",
    "    # Calculate the cost for the current product and update the total amount\n",
    "    amount += quantity * products[p_name]\n",
    "    \n",
    "    # Store the product and its quantity in the cart for later printing\n",
    "    cart[p_name] = (products[p_name], quantity)\n",
    "    \n",
    "    # Ask the user if they want to add more items\n",
    "    more_items = input(\"Do you want to add more items? (yes/no): \").lower()\n",
    "    if more_items in [\"no\", \"n\"]:\n",
    "        break  # Exit the loop if user says no\n",
    "\n",
    "# Apply discount based on the total amount\n",
    "# Different discount rates for different total ranges\n",
    "if amount <= 500:\n",
    "    discount = 0.05  # 5% discount\n",
    "elif amount <= 1000:\n",
    "    discount = 0.07  # 7% discount\n",
    "elif amount <= 5000:\n",
    "    discount = 0.10  # 10% discount\n",
    "elif amount <= 10000:\n",
    "    discount = 0.15  # 15% discount\n",
    "else:\n",
    "    discount = 0  # No discount for amounts greater than 10000\n",
    "\n",
    "# Calculate the discount amount and final payable amount\n",
    "discount_amount = amount * discount\n",
    "final_amount = amount - discount_amount\n",
    "\n",
    "# Print the bill\n",
    "print(\"\\n\" + \"-\" * 30)\n",
    "print(f\"Customer name: {name}\")\n",
    "print(f\"Phone number: {phone_no}\")\n",
    "print(\"\\nItems purchased:\")\n",
    "\n",
    "# Loop through the cart and print the items with their price and quantity\n",
    "for item, (price, qty) in cart.items():\n",
    "    print(f\"{item.title()} : {qty} x {price} = {qty * price}\")\n",
    "\n",
    "# Print the total amount before discount\n",
    "print(f\"\\nTotal amount: {amount}\")\n",
    "\n",
    "# Show discount details if any discount was applied\n",
    "if discount > 0:\n",
    "    print(f\"Discount applied: {discount * 100}%\")\n",
    "    print(f\"Discount amount: {discount_amount:.2f}\")\n",
    "\n",
    "# Print the final payable amount after applying the discount\n",
    "print(f\"Final amount after discount: {final_amount:.2f}\")\n",
    "print(\"-\" * 30)\n"
   ]
  },
  {
   "cell_type": "code",
   "execution_count": null,
   "id": "207351af-bfb3-49a6-a2ba-b5b28bf81bfc",
   "metadata": {},
   "outputs": [],
   "source": []
  }
 ],
 "metadata": {
  "kernelspec": {
   "display_name": "Python 3 (ipykernel)",
   "language": "python",
   "name": "python3"
  },
  "language_info": {
   "codemirror_mode": {
    "name": "ipython",
    "version": 3
   },
   "file_extension": ".py",
   "mimetype": "text/x-python",
   "name": "python",
   "nbconvert_exporter": "python",
   "pygments_lexer": "ipython3",
   "version": "3.13.0"
  }
 },
 "nbformat": 4,
 "nbformat_minor": 5
}
